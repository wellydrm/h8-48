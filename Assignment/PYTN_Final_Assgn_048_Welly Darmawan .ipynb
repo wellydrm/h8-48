{
 "cells": [
  {
   "cell_type": "code",
   "execution_count": 1,
   "metadata": {},
   "outputs": [],
   "source": [
    "import numpy as np\n",
    "import pandas as pd \n",
    "import matplotlib.pyplot as plt\n",
    "from matplotlib.pyplot import figure\n",
    "from datetime import datetime\n",
    "from sklearn import preprocessing\n",
    "from sklearn.model_selection import train_test_split\n",
    "from sklearn import metrics\n",
    "from sklearn.linear_model import LinearRegression\n",
    "from statsmodels.tsa.api import VAR"
   ]
  },
  {
   "cell_type": "code",
   "execution_count": 2,
   "metadata": {},
   "outputs": [],
   "source": [
    "#Data Importing"
   ]
  },
  {
   "cell_type": "code",
   "execution_count": 3,
   "metadata": {},
   "outputs": [],
   "source": [
    "#global_active_power: The total active power consumed by the household (kilowatts).\n",
    "#global_reactive_power: The total reactive power consumed by the household (kilowatts). voltage: Average voltage (volts).\n",
    "#global_intensity: Average current intensity (amps).\n",
    "#sub_metering_1: Active energy for kitchen (watt-hours of active energy).\n",
    "#sub_metering_2: Active energy for laundry (watt-hours of active energy).\n",
    "#sub_metering_3: Active energy for climate control systems (watt-hours of active energy)."
   ]
  },
  {
   "cell_type": "code",
   "execution_count": 4,
   "metadata": {
    "scrolled": false
   },
   "outputs": [
    {
     "data": {
      "text/html": [
       "<div>\n",
       "<style scoped>\n",
       "    .dataframe tbody tr th:only-of-type {\n",
       "        vertical-align: middle;\n",
       "    }\n",
       "\n",
       "    .dataframe tbody tr th {\n",
       "        vertical-align: top;\n",
       "    }\n",
       "\n",
       "    .dataframe thead th {\n",
       "        text-align: right;\n",
       "    }\n",
       "</style>\n",
       "<table border=\"1\" class=\"dataframe\">\n",
       "  <thead>\n",
       "    <tr style=\"text-align: right;\">\n",
       "      <th></th>\n",
       "      <th>Global_active_power</th>\n",
       "      <th>Global_reactive_power</th>\n",
       "      <th>Voltage</th>\n",
       "      <th>Global_intensity</th>\n",
       "      <th>Sub_metering_1</th>\n",
       "      <th>Sub_metering_2</th>\n",
       "      <th>Sub_metering_3</th>\n",
       "    </tr>\n",
       "    <tr>\n",
       "      <th>Timeframe</th>\n",
       "      <th></th>\n",
       "      <th></th>\n",
       "      <th></th>\n",
       "      <th></th>\n",
       "      <th></th>\n",
       "      <th></th>\n",
       "      <th></th>\n",
       "    </tr>\n",
       "  </thead>\n",
       "  <tbody>\n",
       "    <tr>\n",
       "      <th>2006-12-16 17:24:00</th>\n",
       "      <td>4.216</td>\n",
       "      <td>0.418</td>\n",
       "      <td>234.840</td>\n",
       "      <td>18.400</td>\n",
       "      <td>0.000</td>\n",
       "      <td>1.000</td>\n",
       "      <td>17.0</td>\n",
       "    </tr>\n",
       "    <tr>\n",
       "      <th>2006-12-16 17:25:00</th>\n",
       "      <td>5.360</td>\n",
       "      <td>0.436</td>\n",
       "      <td>233.630</td>\n",
       "      <td>23.000</td>\n",
       "      <td>0.000</td>\n",
       "      <td>1.000</td>\n",
       "      <td>16.0</td>\n",
       "    </tr>\n",
       "    <tr>\n",
       "      <th>2006-12-16 17:26:00</th>\n",
       "      <td>5.374</td>\n",
       "      <td>0.498</td>\n",
       "      <td>233.290</td>\n",
       "      <td>23.000</td>\n",
       "      <td>0.000</td>\n",
       "      <td>2.000</td>\n",
       "      <td>17.0</td>\n",
       "    </tr>\n",
       "    <tr>\n",
       "      <th>2006-12-16 17:27:00</th>\n",
       "      <td>5.388</td>\n",
       "      <td>0.502</td>\n",
       "      <td>233.740</td>\n",
       "      <td>23.000</td>\n",
       "      <td>0.000</td>\n",
       "      <td>1.000</td>\n",
       "      <td>17.0</td>\n",
       "    </tr>\n",
       "    <tr>\n",
       "      <th>2006-12-16 17:28:00</th>\n",
       "      <td>3.666</td>\n",
       "      <td>0.528</td>\n",
       "      <td>235.680</td>\n",
       "      <td>15.800</td>\n",
       "      <td>0.000</td>\n",
       "      <td>1.000</td>\n",
       "      <td>17.0</td>\n",
       "    </tr>\n",
       "  </tbody>\n",
       "</table>\n",
       "</div>"
      ],
      "text/plain": [
       "                    Global_active_power Global_reactive_power  Voltage  \\\n",
       "Timeframe                                                                \n",
       "2006-12-16 17:24:00               4.216                 0.418  234.840   \n",
       "2006-12-16 17:25:00               5.360                 0.436  233.630   \n",
       "2006-12-16 17:26:00               5.374                 0.498  233.290   \n",
       "2006-12-16 17:27:00               5.388                 0.502  233.740   \n",
       "2006-12-16 17:28:00               3.666                 0.528  235.680   \n",
       "\n",
       "                    Global_intensity Sub_metering_1 Sub_metering_2  \\\n",
       "Timeframe                                                            \n",
       "2006-12-16 17:24:00           18.400          0.000          1.000   \n",
       "2006-12-16 17:25:00           23.000          0.000          1.000   \n",
       "2006-12-16 17:26:00           23.000          0.000          2.000   \n",
       "2006-12-16 17:27:00           23.000          0.000          1.000   \n",
       "2006-12-16 17:28:00           15.800          0.000          1.000   \n",
       "\n",
       "                     Sub_metering_3  \n",
       "Timeframe                            \n",
       "2006-12-16 17:24:00            17.0  \n",
       "2006-12-16 17:25:00            16.0  \n",
       "2006-12-16 17:26:00            17.0  \n",
       "2006-12-16 17:27:00            17.0  \n",
       "2006-12-16 17:28:00            17.0  "
      ]
     },
     "execution_count": 4,
     "metadata": {},
     "output_type": "execute_result"
    }
   ],
   "source": [
    "df = pd.read_csv('household_power_consumption.txt', sep=';', \n",
    "                 parse_dates={'Timeframe' : ['Date', 'Time']}, infer_datetime_format=True, \n",
    "                 low_memory=False, index_col='Timeframe')\n",
    "df.head() "
   ]
  },
  {
   "cell_type": "code",
   "execution_count": 5,
   "metadata": {},
   "outputs": [],
   "source": [
    "#Data Pre-Processing"
   ]
  },
  {
   "cell_type": "code",
   "execution_count": 6,
   "metadata": {},
   "outputs": [
    {
     "data": {
      "text/html": [
       "<div>\n",
       "<style scoped>\n",
       "    .dataframe tbody tr th:only-of-type {\n",
       "        vertical-align: middle;\n",
       "    }\n",
       "\n",
       "    .dataframe tbody tr th {\n",
       "        vertical-align: top;\n",
       "    }\n",
       "\n",
       "    .dataframe thead th {\n",
       "        text-align: right;\n",
       "    }\n",
       "</style>\n",
       "<table border=\"1\" class=\"dataframe\">\n",
       "  <thead>\n",
       "    <tr style=\"text-align: right;\">\n",
       "      <th></th>\n",
       "      <th>Global_active_power</th>\n",
       "      <th>Global_reactive_power</th>\n",
       "      <th>Voltage</th>\n",
       "      <th>Global_intensity</th>\n",
       "      <th>Sub_metering_1</th>\n",
       "      <th>Sub_metering_2</th>\n",
       "      <th>Sub_metering_3</th>\n",
       "      <th>Timeframe</th>\n",
       "      <th>year</th>\n",
       "      <th>month</th>\n",
       "      <th>day</th>\n",
       "      <th>weekday</th>\n",
       "    </tr>\n",
       "    <tr>\n",
       "      <th>Timeframe</th>\n",
       "      <th></th>\n",
       "      <th></th>\n",
       "      <th></th>\n",
       "      <th></th>\n",
       "      <th></th>\n",
       "      <th></th>\n",
       "      <th></th>\n",
       "      <th></th>\n",
       "      <th></th>\n",
       "      <th></th>\n",
       "      <th></th>\n",
       "      <th></th>\n",
       "    </tr>\n",
       "  </thead>\n",
       "  <tbody>\n",
       "    <tr>\n",
       "      <th>2006-12-16 17:24:00</th>\n",
       "      <td>4.216</td>\n",
       "      <td>0.418</td>\n",
       "      <td>234.840</td>\n",
       "      <td>18.400</td>\n",
       "      <td>0.000</td>\n",
       "      <td>1.000</td>\n",
       "      <td>17.0</td>\n",
       "      <td>2006-12-16 17:24:00</td>\n",
       "      <td>2006</td>\n",
       "      <td>12</td>\n",
       "      <td>16</td>\n",
       "      <td>5</td>\n",
       "    </tr>\n",
       "    <tr>\n",
       "      <th>2006-12-16 17:25:00</th>\n",
       "      <td>5.360</td>\n",
       "      <td>0.436</td>\n",
       "      <td>233.630</td>\n",
       "      <td>23.000</td>\n",
       "      <td>0.000</td>\n",
       "      <td>1.000</td>\n",
       "      <td>16.0</td>\n",
       "      <td>2006-12-16 17:25:00</td>\n",
       "      <td>2006</td>\n",
       "      <td>12</td>\n",
       "      <td>16</td>\n",
       "      <td>5</td>\n",
       "    </tr>\n",
       "    <tr>\n",
       "      <th>2006-12-16 17:26:00</th>\n",
       "      <td>5.374</td>\n",
       "      <td>0.498</td>\n",
       "      <td>233.290</td>\n",
       "      <td>23.000</td>\n",
       "      <td>0.000</td>\n",
       "      <td>2.000</td>\n",
       "      <td>17.0</td>\n",
       "      <td>2006-12-16 17:26:00</td>\n",
       "      <td>2006</td>\n",
       "      <td>12</td>\n",
       "      <td>16</td>\n",
       "      <td>5</td>\n",
       "    </tr>\n",
       "    <tr>\n",
       "      <th>2006-12-16 17:27:00</th>\n",
       "      <td>5.388</td>\n",
       "      <td>0.502</td>\n",
       "      <td>233.740</td>\n",
       "      <td>23.000</td>\n",
       "      <td>0.000</td>\n",
       "      <td>1.000</td>\n",
       "      <td>17.0</td>\n",
       "      <td>2006-12-16 17:27:00</td>\n",
       "      <td>2006</td>\n",
       "      <td>12</td>\n",
       "      <td>16</td>\n",
       "      <td>5</td>\n",
       "    </tr>\n",
       "    <tr>\n",
       "      <th>2006-12-16 17:28:00</th>\n",
       "      <td>3.666</td>\n",
       "      <td>0.528</td>\n",
       "      <td>235.680</td>\n",
       "      <td>15.800</td>\n",
       "      <td>0.000</td>\n",
       "      <td>1.000</td>\n",
       "      <td>17.0</td>\n",
       "      <td>2006-12-16 17:28:00</td>\n",
       "      <td>2006</td>\n",
       "      <td>12</td>\n",
       "      <td>16</td>\n",
       "      <td>5</td>\n",
       "    </tr>\n",
       "    <tr>\n",
       "      <th>...</th>\n",
       "      <td>...</td>\n",
       "      <td>...</td>\n",
       "      <td>...</td>\n",
       "      <td>...</td>\n",
       "      <td>...</td>\n",
       "      <td>...</td>\n",
       "      <td>...</td>\n",
       "      <td>...</td>\n",
       "      <td>...</td>\n",
       "      <td>...</td>\n",
       "      <td>...</td>\n",
       "      <td>...</td>\n",
       "    </tr>\n",
       "    <tr>\n",
       "      <th>2010-11-26 20:58:00</th>\n",
       "      <td>0.946</td>\n",
       "      <td>0.000</td>\n",
       "      <td>240.430</td>\n",
       "      <td>4.000</td>\n",
       "      <td>0.000</td>\n",
       "      <td>0.000</td>\n",
       "      <td>0.0</td>\n",
       "      <td>2010-11-26 20:58:00</td>\n",
       "      <td>2010</td>\n",
       "      <td>11</td>\n",
       "      <td>26</td>\n",
       "      <td>4</td>\n",
       "    </tr>\n",
       "    <tr>\n",
       "      <th>2010-11-26 20:59:00</th>\n",
       "      <td>0.944</td>\n",
       "      <td>0.000</td>\n",
       "      <td>240.000</td>\n",
       "      <td>4.000</td>\n",
       "      <td>0.000</td>\n",
       "      <td>0.000</td>\n",
       "      <td>0.0</td>\n",
       "      <td>2010-11-26 20:59:00</td>\n",
       "      <td>2010</td>\n",
       "      <td>11</td>\n",
       "      <td>26</td>\n",
       "      <td>4</td>\n",
       "    </tr>\n",
       "    <tr>\n",
       "      <th>2010-11-26 21:00:00</th>\n",
       "      <td>0.938</td>\n",
       "      <td>0.000</td>\n",
       "      <td>239.820</td>\n",
       "      <td>3.800</td>\n",
       "      <td>0.000</td>\n",
       "      <td>0.000</td>\n",
       "      <td>0.0</td>\n",
       "      <td>2010-11-26 21:00:00</td>\n",
       "      <td>2010</td>\n",
       "      <td>11</td>\n",
       "      <td>26</td>\n",
       "      <td>4</td>\n",
       "    </tr>\n",
       "    <tr>\n",
       "      <th>2010-11-26 21:01:00</th>\n",
       "      <td>0.934</td>\n",
       "      <td>0.000</td>\n",
       "      <td>239.700</td>\n",
       "      <td>3.800</td>\n",
       "      <td>0.000</td>\n",
       "      <td>0.000</td>\n",
       "      <td>0.0</td>\n",
       "      <td>2010-11-26 21:01:00</td>\n",
       "      <td>2010</td>\n",
       "      <td>11</td>\n",
       "      <td>26</td>\n",
       "      <td>4</td>\n",
       "    </tr>\n",
       "    <tr>\n",
       "      <th>2010-11-26 21:02:00</th>\n",
       "      <td>0.932</td>\n",
       "      <td>0.000</td>\n",
       "      <td>239.550</td>\n",
       "      <td>3.800</td>\n",
       "      <td>0.000</td>\n",
       "      <td>0.000</td>\n",
       "      <td>0.0</td>\n",
       "      <td>2010-11-26 21:02:00</td>\n",
       "      <td>2010</td>\n",
       "      <td>11</td>\n",
       "      <td>26</td>\n",
       "      <td>4</td>\n",
       "    </tr>\n",
       "  </tbody>\n",
       "</table>\n",
       "<p>2075259 rows × 12 columns</p>\n",
       "</div>"
      ],
      "text/plain": [
       "                    Global_active_power Global_reactive_power  Voltage  \\\n",
       "Timeframe                                                                \n",
       "2006-12-16 17:24:00               4.216                 0.418  234.840   \n",
       "2006-12-16 17:25:00               5.360                 0.436  233.630   \n",
       "2006-12-16 17:26:00               5.374                 0.498  233.290   \n",
       "2006-12-16 17:27:00               5.388                 0.502  233.740   \n",
       "2006-12-16 17:28:00               3.666                 0.528  235.680   \n",
       "...                                 ...                   ...      ...   \n",
       "2010-11-26 20:58:00               0.946                 0.000  240.430   \n",
       "2010-11-26 20:59:00               0.944                 0.000  240.000   \n",
       "2010-11-26 21:00:00               0.938                 0.000  239.820   \n",
       "2010-11-26 21:01:00               0.934                 0.000  239.700   \n",
       "2010-11-26 21:02:00               0.932                 0.000  239.550   \n",
       "\n",
       "                    Global_intensity Sub_metering_1 Sub_metering_2  \\\n",
       "Timeframe                                                            \n",
       "2006-12-16 17:24:00           18.400          0.000          1.000   \n",
       "2006-12-16 17:25:00           23.000          0.000          1.000   \n",
       "2006-12-16 17:26:00           23.000          0.000          2.000   \n",
       "2006-12-16 17:27:00           23.000          0.000          1.000   \n",
       "2006-12-16 17:28:00           15.800          0.000          1.000   \n",
       "...                              ...            ...            ...   \n",
       "2010-11-26 20:58:00            4.000          0.000          0.000   \n",
       "2010-11-26 20:59:00            4.000          0.000          0.000   \n",
       "2010-11-26 21:00:00            3.800          0.000          0.000   \n",
       "2010-11-26 21:01:00            3.800          0.000          0.000   \n",
       "2010-11-26 21:02:00            3.800          0.000          0.000   \n",
       "\n",
       "                     Sub_metering_3           Timeframe  year  month  day  \\\n",
       "Timeframe                                                                   \n",
       "2006-12-16 17:24:00            17.0 2006-12-16 17:24:00  2006     12   16   \n",
       "2006-12-16 17:25:00            16.0 2006-12-16 17:25:00  2006     12   16   \n",
       "2006-12-16 17:26:00            17.0 2006-12-16 17:26:00  2006     12   16   \n",
       "2006-12-16 17:27:00            17.0 2006-12-16 17:27:00  2006     12   16   \n",
       "2006-12-16 17:28:00            17.0 2006-12-16 17:28:00  2006     12   16   \n",
       "...                             ...                 ...   ...    ...  ...   \n",
       "2010-11-26 20:58:00             0.0 2010-11-26 20:58:00  2010     11   26   \n",
       "2010-11-26 20:59:00             0.0 2010-11-26 20:59:00  2010     11   26   \n",
       "2010-11-26 21:00:00             0.0 2010-11-26 21:00:00  2010     11   26   \n",
       "2010-11-26 21:01:00             0.0 2010-11-26 21:01:00  2010     11   26   \n",
       "2010-11-26 21:02:00             0.0 2010-11-26 21:02:00  2010     11   26   \n",
       "\n",
       "                     weekday  \n",
       "Timeframe                     \n",
       "2006-12-16 17:24:00        5  \n",
       "2006-12-16 17:25:00        5  \n",
       "2006-12-16 17:26:00        5  \n",
       "2006-12-16 17:27:00        5  \n",
       "2006-12-16 17:28:00        5  \n",
       "...                      ...  \n",
       "2010-11-26 20:58:00        4  \n",
       "2010-11-26 20:59:00        4  \n",
       "2010-11-26 21:00:00        4  \n",
       "2010-11-26 21:01:00        4  \n",
       "2010-11-26 21:02:00        4  \n",
       "\n",
       "[2075259 rows x 12 columns]"
      ]
     },
     "execution_count": 6,
     "metadata": {},
     "output_type": "execute_result"
    }
   ],
   "source": [
    "df['Timeframe'] = df.index\n",
    "\n",
    "df['year'] = df['Timeframe'].apply(lambda x: x.year)\n",
    "df['month'] = df['Timeframe'].apply(lambda x: x.month)\n",
    "df['day'] = df['Timeframe'].apply(lambda x: x.day)\n",
    "df[\"weekday\"]= df.apply(lambda row: row[\"Timeframe\"].weekday(),axis=1)\n",
    "\n",
    "df"
   ]
  },
  {
   "cell_type": "code",
   "execution_count": 7,
   "metadata": {
    "scrolled": false
   },
   "outputs": [
    {
     "name": "stdout",
     "output_type": "stream",
     "text": [
      "<class 'pandas.core.frame.DataFrame'>\n",
      "DatetimeIndex: 2075259 entries, 2006-12-16 17:24:00 to 2010-11-26 21:02:00\n",
      "Data columns (total 12 columns):\n",
      " #   Column                 Dtype         \n",
      "---  ------                 -----         \n",
      " 0   Global_active_power    object        \n",
      " 1   Global_reactive_power  object        \n",
      " 2   Voltage                object        \n",
      " 3   Global_intensity       object        \n",
      " 4   Sub_metering_1         object        \n",
      " 5   Sub_metering_2         object        \n",
      " 6   Sub_metering_3         float64       \n",
      " 7   Timeframe              datetime64[ns]\n",
      " 8   year                   int64         \n",
      " 9   month                  int64         \n",
      " 10  day                    int64         \n",
      " 11  weekday                int64         \n",
      "dtypes: datetime64[ns](1), float64(1), int64(4), object(6)\n",
      "memory usage: 205.8+ MB\n"
     ]
    }
   ],
   "source": [
    "df.info()"
   ]
  },
  {
   "cell_type": "code",
   "execution_count": 8,
   "metadata": {
    "scrolled": false
   },
   "outputs": [
    {
     "data": {
      "text/plain": [
       "Global_active_power          0\n",
       "Global_reactive_power        0\n",
       "Voltage                      0\n",
       "Global_intensity             0\n",
       "Sub_metering_1               0\n",
       "Sub_metering_2               0\n",
       "Sub_metering_3           25979\n",
       "Timeframe                    0\n",
       "year                         0\n",
       "month                        0\n",
       "day                          0\n",
       "weekday                      0\n",
       "dtype: int64"
      ]
     },
     "execution_count": 8,
     "metadata": {},
     "output_type": "execute_result"
    }
   ],
   "source": [
    "# Count the number of null values\n",
    "df.isnull().sum()"
   ]
  },
  {
   "cell_type": "code",
   "execution_count": 9,
   "metadata": {},
   "outputs": [],
   "source": [
    "# Feature Modification\n",
    "df.replace(['?', 'nan', np.nan], -1, inplace=True) \n",
    "numeric = ['Global_active_power', 'Global_reactive_power', 'Voltage', \n",
    "           'Global_intensity', 'Sub_metering_1', 'Sub_metering_2', 'Sub_metering_3','year','month']\n",
    "for col in numeric:\n",
    "    df[col] = pd.to_numeric(df[col], errors='coerce')"
   ]
  },
  {
   "cell_type": "code",
   "execution_count": 10,
   "metadata": {
    "scrolled": true
   },
   "outputs": [
    {
     "name": "stdout",
     "output_type": "stream",
     "text": [
      "<class 'pandas.core.frame.DataFrame'>\n",
      "DatetimeIndex: 2075259 entries, 2006-12-16 17:24:00 to 2010-11-26 21:02:00\n",
      "Data columns (total 12 columns):\n",
      " #   Column                 Dtype         \n",
      "---  ------                 -----         \n",
      " 0   Global_active_power    float64       \n",
      " 1   Global_reactive_power  float64       \n",
      " 2   Voltage                float64       \n",
      " 3   Global_intensity       float64       \n",
      " 4   Sub_metering_1         float64       \n",
      " 5   Sub_metering_2         float64       \n",
      " 6   Sub_metering_3         float64       \n",
      " 7   Timeframe              datetime64[ns]\n",
      " 8   year                   int64         \n",
      " 9   month                  int64         \n",
      " 10  day                    int64         \n",
      " 11  weekday                int64         \n",
      "dtypes: datetime64[ns](1), float64(7), int64(4)\n",
      "memory usage: 205.8 MB\n"
     ]
    }
   ],
   "source": [
    "df.info()"
   ]
  },
  {
   "cell_type": "code",
   "execution_count": 11,
   "metadata": {
    "scrolled": false
   },
   "outputs": [
    {
     "data": {
      "text/plain": [
       "Global_active_power      0\n",
       "Global_reactive_power    0\n",
       "Voltage                  0\n",
       "Global_intensity         0\n",
       "Sub_metering_1           0\n",
       "Sub_metering_2           0\n",
       "Sub_metering_3           0\n",
       "Timeframe                0\n",
       "year                     0\n",
       "month                    0\n",
       "day                      0\n",
       "weekday                  0\n",
       "dtype: int64"
      ]
     },
     "execution_count": 11,
     "metadata": {},
     "output_type": "execute_result"
    }
   ],
   "source": [
    "df.isnull().sum()"
   ]
  },
  {
   "cell_type": "code",
   "execution_count": 12,
   "metadata": {},
   "outputs": [],
   "source": [
    "#Exploratory Data Analysis"
   ]
  },
  {
   "cell_type": "code",
   "execution_count": 13,
   "metadata": {
    "scrolled": false
   },
   "outputs": [
    {
     "data": {
      "text/plain": [
       "<AxesSubplot:ylabel='Global_active_power'>"
      ]
     },
     "execution_count": 13,
     "metadata": {},
     "output_type": "execute_result"
    },
    {
     "data": {
      "image/png": "[encoded data removed]",
      "text/plain": [
       "<Figure size 360x432 with 1 Axes>"
      ]
     },
     "metadata": {},
     "output_type": "display_data"
    }
   ],
   "source": [
    "df.groupby([\"year\"])[\"Global_active_power\"].sum().plot(kind='pie',\n",
    "                            figsize=(5, 6),\n",
    "                            autopct='%1.1f%%', \n",
    "                            startangle=90,     \n",
    "                            shadow=True,            \n",
    "                            )"
   ]
  },
  {
   "cell_type": "code",
   "execution_count": 14,
   "metadata": {
    "scrolled": true
   },
   "outputs": [
    {
     "data": {
      "image/png": "[encoded data removed]",
      "text/plain": [
       "<Figure size 432x288 with 1 Axes>"
      ]
     },
     "metadata": {
      "needs_background": "light"
     },
     "output_type": "display_data"
    }
   ],
   "source": [
    "df.Global_active_power.resample('W').sum().plot(title='Global_active_power resampled over day for sum') \n",
    "plt.tight_layout()\n",
    "plt.show()  "
   ]
  },
  {
   "cell_type": "code",
   "execution_count": 15,
   "metadata": {
    "scrolled": false
   },
   "outputs": [
    {
     "data": {
      "image/png": "[encoded data removed]",
      "text/plain": [
       "<Figure size 432x288 with 1 Axes>"
      ]
     },
     "metadata": {
      "needs_background": "light"
     },
     "output_type": "display_data"
    }
   ],
   "source": [
    "## resampling over day and computing mean\n",
    "df.Global_reactive_power.resample('Y').mean().plot(color='y', legend=True)\n",
    "df.Global_active_power.resample('Y').mean().plot(color='r', legend=True)\n",
    "df.Sub_metering_1.resample('Y').mean().plot(color='b', legend=True)\n",
    "df.Global_intensity.resample('Y').mean().plot(color='g', legend=True)\n",
    "plt.tight_layout()\n",
    "plt.show()"
   ]
  },
  {
   "cell_type": "code",
   "execution_count": 16,
   "metadata": {
    "scrolled": true
   },
   "outputs": [],
   "source": [
    "df[\"weekday\"]= df.apply(lambda row: row[\"Timeframe\"].weekday(),axis=1)\n",
    "df[\"weekday\"] = (df[\"weekday\"] < 5).astype(int)"
   ]
  },
  {
   "cell_type": "code",
   "execution_count": 17,
   "metadata": {
    "scrolled": true
   },
   "outputs": [
    {
     "name": "stderr",
     "output_type": "stream",
     "text": [
      "C:\\Users\\welly\\anaconda3\\lib\\site-packages\\seaborn\\categorical.py:3704: UserWarning: The `factorplot` function has been renamed to `catplot`. The original name will be removed in a future release. Please update your code. Note that the default `kind` in `factorplot` (`'point'`) has changed `'strip'` in `catplot`.\n",
      "  warnings.warn(msg)\n",
      "C:\\Users\\welly\\anaconda3\\lib\\site-packages\\seaborn\\categorical.py:3710: UserWarning: The `size` parameter has been renamed to `height`; please update your code.\n",
      "  warnings.warn(msg, UserWarning)\n",
      "C:\\Users\\welly\\anaconda3\\lib\\site-packages\\seaborn\\_decorators.py:36: FutureWarning: Pass the following variables as keyword args: x, y. From version 0.12, the only valid positional argument will be `data`, and passing other arguments without an explicit keyword will result in an error or misinterpretation.\n",
      "  warnings.warn(\n"
     ]
    },
    {
     "data": {
      "image/png": "[encoded data removed]",
      "text/plain": [
       "<Figure size 432x288 with 1 Axes>"
      ]
     },
     "metadata": {
      "needs_background": "light"
     },
     "output_type": "display_data"
    }
   ],
   "source": [
    "#Factor Plot of Global Active Power by Weekday vs. Weekend\n",
    "dic={0:'Weekend',1:'Weekday'}\n",
    "df['Day'] = df.weekday.map(dic)\n",
    "\n",
    "df[\"Weekday\"]=df.apply(lambda row: row[\"Timeframe\"].weekday(),axis=1)\n",
    "df[\"Weekday\"] = (df[\"Weekday\"] < 5).astype(int)\n",
    "\n",
    "plt1=sns.factorplot('year','Global_active_power',hue='Day',\n",
    "                    data=df, size=4, aspect=1.5, legend=False)                                                                                                                                                                                                                                                                                                                                             \n",
    "plt.title('Factor Plot of Global active power by Weekend/Weekday')                                                             \n",
    "plt.tight_layout()                                                                                                                  \n",
    "sns.despine(left=True, bottom=True) \n",
    "plt.legend(loc='upper right');"
   ]
  },
  {
   "cell_type": "code",
   "execution_count": 18,
   "metadata": {},
   "outputs": [],
   "source": [
    "#Dataset Correlation"
   ]
  },
  {
   "cell_type": "code",
   "execution_count": 19,
   "metadata": {},
   "outputs": [],
   "source": [
    "df2 = pd.read_csv('household_power_consumption.txt', sep=';', \n",
    "                 parse_dates={'dt' : ['Date', 'Time']}, infer_datetime_format=True, \n",
    "                 low_memory=False, na_values=['nan','?'], index_col='dt')"
   ]
  },
  {
   "cell_type": "code",
   "execution_count": 20,
   "metadata": {
    "scrolled": true
   },
   "outputs": [
    {
     "data": {
      "text/plain": [
       "Global_active_power      25979\n",
       "Global_reactive_power    25979\n",
       "Voltage                  25979\n",
       "Global_intensity         25979\n",
       "Sub_metering_1           25979\n",
       "Sub_metering_2           25979\n",
       "Sub_metering_3           25979\n",
       "dtype: int64"
      ]
     },
     "execution_count": 20,
     "metadata": {},
     "output_type": "execute_result"
    }
   ],
   "source": [
    "df2.isnull().sum()"
   ]
  },
  {
   "cell_type": "code",
   "execution_count": 21,
   "metadata": {},
   "outputs": [],
   "source": [
    "df2 = df2.dropna(how = 'all')"
   ]
  },
  {
   "cell_type": "code",
   "execution_count": 22,
   "metadata": {},
   "outputs": [
    {
     "data": {
      "text/plain": [
       "Global_active_power      0\n",
       "Global_reactive_power    0\n",
       "Voltage                  0\n",
       "Global_intensity         0\n",
       "Sub_metering_1           0\n",
       "Sub_metering_2           0\n",
       "Sub_metering_3           0\n",
       "dtype: int64"
      ]
     },
     "execution_count": 22,
     "metadata": {},
     "output_type": "execute_result"
    }
   ],
   "source": [
    "df2.isnull().sum()"
   ]
  },
  {
   "cell_type": "code",
   "execution_count": 23,
   "metadata": {
    "scrolled": true
   },
   "outputs": [
    {
     "name": "stderr",
     "output_type": "stream",
     "text": [
      "C:\\Users\\welly\\anaconda3\\lib\\site-packages\\statsmodels\\base\\wrapper.py:34: FutureWarning: y is a deprecated alias for endog, will be removed in version 0.11.0\n",
      "  obj = getattr(results, attr)\n"
     ]
    },
    {
     "data": {
      "text/plain": [
       "  Summary of Regression Results   \n",
       "==================================\n",
       "Model:                         VAR\n",
       "Method:                        OLS\n",
       "Date:           Mon, 03, May, 2021\n",
       "Time:                     14:03:13\n",
       "--------------------------------------------------------------------\n",
       "No. of Equations:         7.00000    BIC:                   -24.1326\n",
       "Nobs:                     47.0000    HQIC:                  -25.5075\n",
       "Log likelihood:           208.090    FPE:                3.73374e-12\n",
       "AIC:                     -26.3370    Det(Omega_mle):     1.24248e-12\n",
       "--------------------------------------------------------------------\n",
       "Results for equation Global_active_power\n",
       "===========================================================================================\n",
       "                              coefficient       std. error           t-stat            prob\n",
       "-------------------------------------------------------------------------------------------\n",
       "const                           11.774493        10.508005            1.121           0.262\n",
       "L1.Global_active_power          15.665523         7.131483            2.197           0.028\n",
       "L1.Global_reactive_power         1.148828         2.435788            0.472           0.637\n",
       "L1.Voltage                      -0.044681         0.043922           -1.017           0.309\n",
       "L1.Global_intensity             -3.524457         1.685707           -2.091           0.037\n",
       "L1.Sub_metering_1               -0.107708         0.125665           -0.857           0.391\n",
       "L1.Sub_metering_2               -0.106692         0.118879           -0.897           0.369\n",
       "L1.Sub_metering_3               -0.093995         0.044695           -2.103           0.035\n",
       "===========================================================================================\n",
       "\n",
       "Results for equation Global_reactive_power\n",
       "===========================================================================================\n",
       "                              coefficient       std. error           t-stat            prob\n",
       "-------------------------------------------------------------------------------------------\n",
       "const                           -0.498061         0.942271           -0.529           0.597\n",
       "L1.Global_active_power          -0.914311         0.639493           -1.430           0.153\n",
       "L1.Global_reactive_power         0.338527         0.218421            1.550           0.121\n",
       "L1.Voltage                       0.002258         0.003939            0.573           0.566\n",
       "L1.Global_intensity              0.207619         0.151160            1.374           0.170\n",
       "L1.Sub_metering_1               -0.009863         0.011269           -0.875           0.381\n",
       "L1.Sub_metering_2                0.009490         0.010660            0.890           0.373\n",
       "L1.Sub_metering_3                0.011105         0.004008            2.771           0.006\n",
       "===========================================================================================\n",
       "\n",
       "Results for equation Voltage\n",
       "===========================================================================================\n",
       "                              coefficient       std. error           t-stat            prob\n",
       "-------------------------------------------------------------------------------------------\n",
       "const                          125.958076        69.196216            1.820           0.069\n",
       "L1.Global_active_power          -0.985302        46.961494           -0.021           0.983\n",
       "L1.Global_reactive_power        -8.378301        16.039898           -0.522           0.601\n",
       "L1.Voltage                       0.479211         0.289229            1.657           0.098\n",
       "L1.Global_intensity              0.516335        11.100541            0.047           0.963\n",
       "L1.Sub_metering_1               -0.555506         0.827516           -0.671           0.502\n",
       "L1.Sub_metering_2               -0.977218         0.782831           -1.248           0.212\n",
       "L1.Sub_metering_3                0.166672         0.294319            0.566           0.571\n",
       "===========================================================================================\n",
       "\n",
       "Results for equation Global_intensity\n",
       "===========================================================================================\n",
       "                              coefficient       std. error           t-stat            prob\n",
       "-------------------------------------------------------------------------------------------\n",
       "const                           50.033127        43.132279            1.160           0.246\n",
       "L1.Global_active_power          62.575104        29.272644            2.138           0.033\n",
       "L1.Global_reactive_power         4.940100         9.998196            0.494           0.621\n",
       "L1.Voltage                      -0.190245         0.180286           -1.055           0.291\n",
       "L1.Global_intensity            -14.053094         6.919332           -2.031           0.042\n",
       "L1.Sub_metering_1               -0.466303         0.515818           -0.904           0.366\n",
       "L1.Sub_metering_2               -0.409028         0.487965           -0.838           0.402\n",
       "L1.Sub_metering_3               -0.382123         0.183459           -2.083           0.037\n",
       "===========================================================================================\n",
       "\n",
       "Results for equation Sub_metering_1\n",
       "===========================================================================================\n",
       "                              coefficient       std. error           t-stat            prob\n",
       "-------------------------------------------------------------------------------------------\n",
       "const                           44.113047        17.789300            2.480           0.013\n",
       "L1.Global_active_power          36.021765        12.073089            2.984           0.003\n",
       "L1.Global_reactive_power         5.682675         4.123615            1.378           0.168\n",
       "L1.Voltage                      -0.177499         0.074356           -2.387           0.017\n",
       "L1.Global_intensity             -8.420215         2.853781           -2.951           0.003\n",
       "L1.Sub_metering_1                0.140173         0.212742            0.659           0.510\n",
       "L1.Sub_metering_2               -0.185286         0.201254           -0.921           0.357\n",
       "L1.Sub_metering_3               -0.188651         0.075665           -2.493           0.013\n",
       "===========================================================================================\n",
       "\n",
       "Results for equation Sub_metering_2\n",
       "===========================================================================================\n",
       "                              coefficient       std. error           t-stat            prob\n",
       "-------------------------------------------------------------------------------------------\n",
       "const                           30.436070        18.707507            1.627           0.104\n",
       "L1.Global_active_power          12.570532        12.696250            0.990           0.322\n",
       "L1.Global_reactive_power        -0.855266         4.336458           -0.197           0.844\n",
       "L1.Voltage                      -0.120848         0.078194           -1.545           0.122\n",
       "L1.Global_intensity             -2.808953         3.001081           -0.936           0.349\n",
       "L1.Sub_metering_1               -0.124597         0.223723           -0.557           0.578\n",
       "L1.Sub_metering_2                0.061005         0.211642            0.288           0.773\n",
       "L1.Sub_metering_3               -0.093779         0.079571           -1.179           0.239\n",
       "===========================================================================================\n",
       "\n",
       "Results for equation Sub_metering_3\n",
       "===========================================================================================\n",
       "                              coefficient       std. error           t-stat            prob\n",
       "-------------------------------------------------------------------------------------------\n",
       "const                           71.369573        60.870510            1.172           0.241\n",
       "L1.Global_active_power         119.369101        41.311075            2.890           0.004\n",
       "L1.Global_reactive_power        21.005706        14.109974            1.489           0.137\n",
       "L1.Voltage                      -0.273520         0.254429           -1.075           0.282\n",
       "L1.Global_intensity            -28.078347         9.764921           -2.875           0.004\n",
       "L1.Sub_metering_1               -0.690606         0.727949           -0.949           0.343\n",
       "L1.Sub_metering_2               -0.501241         0.688641           -0.728           0.467\n",
       "L1.Sub_metering_3               -0.090397         0.258907           -0.349           0.727\n",
       "===========================================================================================\n",
       "\n",
       "Correlation matrix of residuals\n",
       "                         Global_active_power  Global_reactive_power   Voltage  Global_intensity  Sub_metering_1  Sub_metering_2  Sub_metering_3\n",
       "Global_active_power                 1.000000              -0.208427  0.102020          0.998917        0.685997        0.571590        0.812947\n",
       "Global_reactive_power              -0.208427               1.000000  0.146548         -0.190901        0.132601        0.012413       -0.151076\n",
       "Voltage                             0.102020               0.146548  1.000000          0.070260       -0.223402       -0.166440        0.122077\n",
       "Global_intensity                    0.998917              -0.190901  0.070260          1.000000        0.707129        0.580568        0.805283\n",
       "Sub_metering_1                      0.685997               0.132601 -0.223402          0.707129        1.000000        0.532589        0.577975\n",
       "Sub_metering_2                      0.571590               0.012413 -0.166440          0.580568        0.532589        1.000000        0.359270\n",
       "Sub_metering_3                      0.812947              -0.151076  0.122077          0.805283        0.577975        0.359270        1.000000\n",
       "\n"
      ]
     },
     "execution_count": 23,
     "metadata": {},
     "output_type": "execute_result"
    }
   ],
   "source": [
    "mean_consumption_resampled_mthly = df2.resample('M').mean()\n",
    "model = VAR(mean_consumption_resampled_mthly)\n",
    "model_fit = model.fit()\n",
    "pred = model_fit.forecast(model_fit.y, steps=4)\n",
    "model_fit.summary()"
   ]
  },
  {
   "cell_type": "code",
   "execution_count": 24,
   "metadata": {},
   "outputs": [
    {
     "data": {
      "text/html": [
       "<div>\n",
       "<style scoped>\n",
       "    .dataframe tbody tr th:only-of-type {\n",
       "        vertical-align: middle;\n",
       "    }\n",
       "\n",
       "    .dataframe tbody tr th {\n",
       "        vertical-align: top;\n",
       "    }\n",
       "\n",
       "    .dataframe thead th {\n",
       "        text-align: right;\n",
       "    }\n",
       "</style>\n",
       "<table border=\"1\" class=\"dataframe\">\n",
       "  <thead>\n",
       "    <tr style=\"text-align: right;\">\n",
       "      <th></th>\n",
       "      <th>Global_reactive_power</th>\n",
       "      <th>Voltage</th>\n",
       "      <th>Global_intensity</th>\n",
       "      <th>Sub_metering_1</th>\n",
       "      <th>Sub_metering_2</th>\n",
       "      <th>Sub_metering_3</th>\n",
       "    </tr>\n",
       "    <tr>\n",
       "      <th>dt</th>\n",
       "      <th></th>\n",
       "      <th></th>\n",
       "      <th></th>\n",
       "      <th></th>\n",
       "      <th></th>\n",
       "      <th></th>\n",
       "    </tr>\n",
       "  </thead>\n",
       "  <tbody>\n",
       "    <tr>\n",
       "      <th>2006-12-16 17:24:00</th>\n",
       "      <td>0.418</td>\n",
       "      <td>234.84</td>\n",
       "      <td>18.4</td>\n",
       "      <td>0.0</td>\n",
       "      <td>1.0</td>\n",
       "      <td>17.0</td>\n",
       "    </tr>\n",
       "    <tr>\n",
       "      <th>2006-12-16 17:25:00</th>\n",
       "      <td>0.436</td>\n",
       "      <td>233.63</td>\n",
       "      <td>23.0</td>\n",
       "      <td>0.0</td>\n",
       "      <td>1.0</td>\n",
       "      <td>16.0</td>\n",
       "    </tr>\n",
       "    <tr>\n",
       "      <th>2006-12-16 17:26:00</th>\n",
       "      <td>0.498</td>\n",
       "      <td>233.29</td>\n",
       "      <td>23.0</td>\n",
       "      <td>0.0</td>\n",
       "      <td>2.0</td>\n",
       "      <td>17.0</td>\n",
       "    </tr>\n",
       "    <tr>\n",
       "      <th>2006-12-16 17:27:00</th>\n",
       "      <td>0.502</td>\n",
       "      <td>233.74</td>\n",
       "      <td>23.0</td>\n",
       "      <td>0.0</td>\n",
       "      <td>1.0</td>\n",
       "      <td>17.0</td>\n",
       "    </tr>\n",
       "    <tr>\n",
       "      <th>2006-12-16 17:28:00</th>\n",
       "      <td>0.528</td>\n",
       "      <td>235.68</td>\n",
       "      <td>15.8</td>\n",
       "      <td>0.0</td>\n",
       "      <td>1.0</td>\n",
       "      <td>17.0</td>\n",
       "    </tr>\n",
       "  </tbody>\n",
       "</table>\n",
       "</div>"
      ],
      "text/plain": [
       "                     Global_reactive_power  Voltage  Global_intensity  \\\n",
       "dt                                                                      \n",
       "2006-12-16 17:24:00                  0.418   234.84              18.4   \n",
       "2006-12-16 17:25:00                  0.436   233.63              23.0   \n",
       "2006-12-16 17:26:00                  0.498   233.29              23.0   \n",
       "2006-12-16 17:27:00                  0.502   233.74              23.0   \n",
       "2006-12-16 17:28:00                  0.528   235.68              15.8   \n",
       "\n",
       "                     Sub_metering_1  Sub_metering_2  Sub_metering_3  \n",
       "dt                                                                   \n",
       "2006-12-16 17:24:00             0.0             1.0            17.0  \n",
       "2006-12-16 17:25:00             0.0             1.0            16.0  \n",
       "2006-12-16 17:26:00             0.0             2.0            17.0  \n",
       "2006-12-16 17:27:00             0.0             1.0            17.0  \n",
       "2006-12-16 17:28:00             0.0             1.0            17.0  "
      ]
     },
     "execution_count": 24,
     "metadata": {},
     "output_type": "execute_result"
    }
   ],
   "source": [
    "X = df2.iloc[:,[1,2,3,4,5,6]]\n",
    "X.head()"
   ]
  },
  {
   "cell_type": "code",
   "execution_count": 25,
   "metadata": {},
   "outputs": [
    {
     "data": {
      "text/plain": [
       "dt\n",
       "2006-12-16 17:24:00    4.216\n",
       "2006-12-16 17:25:00    5.360\n",
       "2006-12-16 17:26:00    5.374\n",
       "2006-12-16 17:27:00    5.388\n",
       "2006-12-16 17:28:00    3.666\n",
       "Name: Global_active_power, dtype: float64"
      ]
     },
     "execution_count": 25,
     "metadata": {},
     "output_type": "execute_result"
    }
   ],
   "source": [
    "y = df2.iloc[:,0]\n",
    "y.head()"
   ]
  },
  {
   "cell_type": "code",
   "execution_count": 26,
   "metadata": {
    "scrolled": true
   },
   "outputs": [
    {
     "name": "stdout",
     "output_type": "stream",
     "text": [
      "Coefficients: \n",
      " [-0.17552688  0.00445731  0.23803007 -0.00031731 -0.00044192  0.00217875]\n"
     ]
    }
   ],
   "source": [
    "X_train, X_test, y_train, y_test = train_test_split(X, y, test_size=0.3, random_state=101)\n",
    "lm = LinearRegression()\n",
    "lm.fit(X_train,y_train)\n",
    "print('Coefficients: \\n', lm.coef_)"
   ]
  },
  {
   "cell_type": "code",
   "execution_count": 27,
   "metadata": {},
   "outputs": [
    {
     "name": "stdout",
     "output_type": "stream",
     "text": [
      "MAE: 0.025902546821812342\n",
      "MSE: 0.0016528254258486124\n",
      "RMSE: 0.04065495573541573\n",
      "R Squares value: 0.99851567747378\n"
     ]
    }
   ],
   "source": [
    "predictions = lm.predict( X_test)\n",
    "print('MAE:', metrics.mean_absolute_error(y_test, predictions))\n",
    "print('MSE:', metrics.mean_squared_error(y_test, predictions))\n",
    "print('RMSE:', np.sqrt(metrics.mean_squared_error(y_test, predictions)))\n",
    "print ('R Squares value:',metrics.r2_score(y_test, predictions))"
   ]
  }
 ],
 "metadata": {
  "kernelspec": {
   "display_name": "Python 3",
   "language": "python",
   "name": "python3"
  },
  "language_info": {
   "codemirror_mode": {
    "name": "ipython",
    "version": 3
   },
   "file_extension": ".py",
   "mimetype": "text/x-python",
   "name": "python",
   "nbconvert_exporter": "python",
   "pygments_lexer": "ipython3",
   "version": "3.8.5"
  }
 },
 "nbformat": 4,
 "nbformat_minor": 4
}
