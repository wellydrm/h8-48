{
 "cells": [
  {
   "cell_type": "code",
   "execution_count": 1,
   "metadata": {},
   "outputs": [],
   "source": [
    "# Load libraries\n",
    "import pandas as pd\n",
    "from sklearn.tree import DecisionTreeClassifier\n",
    "from sklearn.model_selection import train_test_split \n",
    "from sklearn import metrics "
   ]
  },
  {
   "cell_type": "code",
   "execution_count": 2,
   "metadata": {},
   "outputs": [],
   "source": [
    "import matplotlib.pyplot as plt\n",
    "import numpy as np\n",
    "\n",
    "from sklearn.linear_model import LogisticRegression\n",
    "from sklearn.metrics import classification_report, confusion_matrix"
   ]
  },
  {
   "cell_type": "code",
   "execution_count": 3,
   "metadata": {
    "scrolled": true
   },
   "outputs": [
    {
     "data": {
      "text/html": [
       "<div>\n",
       "<style scoped>\n",
       "    .dataframe tbody tr th:only-of-type {\n",
       "        vertical-align: middle;\n",
       "    }\n",
       "\n",
       "    .dataframe tbody tr th {\n",
       "        vertical-align: top;\n",
       "    }\n",
       "\n",
       "    .dataframe thead th {\n",
       "        text-align: right;\n",
       "    }\n",
       "</style>\n",
       "<table border=\"1\" class=\"dataframe\">\n",
       "  <thead>\n",
       "    <tr style=\"text-align: right;\">\n",
       "      <th></th>\n",
       "      <th>age</th>\n",
       "      <th>job</th>\n",
       "      <th>marital</th>\n",
       "      <th>education</th>\n",
       "      <th>default</th>\n",
       "      <th>balance</th>\n",
       "      <th>housing</th>\n",
       "      <th>loan</th>\n",
       "      <th>contact</th>\n",
       "      <th>day</th>\n",
       "      <th>month</th>\n",
       "      <th>duration</th>\n",
       "      <th>campaign</th>\n",
       "      <th>pdays</th>\n",
       "      <th>previous</th>\n",
       "      <th>poutcome</th>\n",
       "      <th>y</th>\n",
       "    </tr>\n",
       "  </thead>\n",
       "  <tbody>\n",
       "    <tr>\n",
       "      <th>0</th>\n",
       "      <td>30</td>\n",
       "      <td>unemployed</td>\n",
       "      <td>married</td>\n",
       "      <td>primary</td>\n",
       "      <td>no</td>\n",
       "      <td>1787</td>\n",
       "      <td>no</td>\n",
       "      <td>no</td>\n",
       "      <td>cellular</td>\n",
       "      <td>19</td>\n",
       "      <td>oct</td>\n",
       "      <td>79</td>\n",
       "      <td>1</td>\n",
       "      <td>-1</td>\n",
       "      <td>0</td>\n",
       "      <td>unknown</td>\n",
       "      <td>no</td>\n",
       "    </tr>\n",
       "    <tr>\n",
       "      <th>1</th>\n",
       "      <td>33</td>\n",
       "      <td>services</td>\n",
       "      <td>married</td>\n",
       "      <td>secondary</td>\n",
       "      <td>no</td>\n",
       "      <td>4789</td>\n",
       "      <td>yes</td>\n",
       "      <td>yes</td>\n",
       "      <td>cellular</td>\n",
       "      <td>11</td>\n",
       "      <td>may</td>\n",
       "      <td>220</td>\n",
       "      <td>1</td>\n",
       "      <td>339</td>\n",
       "      <td>4</td>\n",
       "      <td>failure</td>\n",
       "      <td>no</td>\n",
       "    </tr>\n",
       "    <tr>\n",
       "      <th>2</th>\n",
       "      <td>35</td>\n",
       "      <td>management</td>\n",
       "      <td>single</td>\n",
       "      <td>tertiary</td>\n",
       "      <td>no</td>\n",
       "      <td>1350</td>\n",
       "      <td>yes</td>\n",
       "      <td>no</td>\n",
       "      <td>cellular</td>\n",
       "      <td>16</td>\n",
       "      <td>apr</td>\n",
       "      <td>185</td>\n",
       "      <td>1</td>\n",
       "      <td>330</td>\n",
       "      <td>1</td>\n",
       "      <td>failure</td>\n",
       "      <td>no</td>\n",
       "    </tr>\n",
       "    <tr>\n",
       "      <th>3</th>\n",
       "      <td>30</td>\n",
       "      <td>management</td>\n",
       "      <td>married</td>\n",
       "      <td>tertiary</td>\n",
       "      <td>no</td>\n",
       "      <td>1476</td>\n",
       "      <td>yes</td>\n",
       "      <td>yes</td>\n",
       "      <td>unknown</td>\n",
       "      <td>3</td>\n",
       "      <td>jun</td>\n",
       "      <td>199</td>\n",
       "      <td>4</td>\n",
       "      <td>-1</td>\n",
       "      <td>0</td>\n",
       "      <td>unknown</td>\n",
       "      <td>no</td>\n",
       "    </tr>\n",
       "    <tr>\n",
       "      <th>4</th>\n",
       "      <td>59</td>\n",
       "      <td>blue-collar</td>\n",
       "      <td>married</td>\n",
       "      <td>secondary</td>\n",
       "      <td>no</td>\n",
       "      <td>0</td>\n",
       "      <td>yes</td>\n",
       "      <td>no</td>\n",
       "      <td>unknown</td>\n",
       "      <td>5</td>\n",
       "      <td>may</td>\n",
       "      <td>226</td>\n",
       "      <td>1</td>\n",
       "      <td>-1</td>\n",
       "      <td>0</td>\n",
       "      <td>unknown</td>\n",
       "      <td>no</td>\n",
       "    </tr>\n",
       "    <tr>\n",
       "      <th>...</th>\n",
       "      <td>...</td>\n",
       "      <td>...</td>\n",
       "      <td>...</td>\n",
       "      <td>...</td>\n",
       "      <td>...</td>\n",
       "      <td>...</td>\n",
       "      <td>...</td>\n",
       "      <td>...</td>\n",
       "      <td>...</td>\n",
       "      <td>...</td>\n",
       "      <td>...</td>\n",
       "      <td>...</td>\n",
       "      <td>...</td>\n",
       "      <td>...</td>\n",
       "      <td>...</td>\n",
       "      <td>...</td>\n",
       "      <td>...</td>\n",
       "    </tr>\n",
       "    <tr>\n",
       "      <th>4516</th>\n",
       "      <td>33</td>\n",
       "      <td>services</td>\n",
       "      <td>married</td>\n",
       "      <td>secondary</td>\n",
       "      <td>no</td>\n",
       "      <td>-333</td>\n",
       "      <td>yes</td>\n",
       "      <td>no</td>\n",
       "      <td>cellular</td>\n",
       "      <td>30</td>\n",
       "      <td>jul</td>\n",
       "      <td>329</td>\n",
       "      <td>5</td>\n",
       "      <td>-1</td>\n",
       "      <td>0</td>\n",
       "      <td>unknown</td>\n",
       "      <td>no</td>\n",
       "    </tr>\n",
       "    <tr>\n",
       "      <th>4517</th>\n",
       "      <td>57</td>\n",
       "      <td>self-employed</td>\n",
       "      <td>married</td>\n",
       "      <td>tertiary</td>\n",
       "      <td>yes</td>\n",
       "      <td>-3313</td>\n",
       "      <td>yes</td>\n",
       "      <td>yes</td>\n",
       "      <td>unknown</td>\n",
       "      <td>9</td>\n",
       "      <td>may</td>\n",
       "      <td>153</td>\n",
       "      <td>1</td>\n",
       "      <td>-1</td>\n",
       "      <td>0</td>\n",
       "      <td>unknown</td>\n",
       "      <td>no</td>\n",
       "    </tr>\n",
       "    <tr>\n",
       "      <th>4518</th>\n",
       "      <td>57</td>\n",
       "      <td>technician</td>\n",
       "      <td>married</td>\n",
       "      <td>secondary</td>\n",
       "      <td>no</td>\n",
       "      <td>295</td>\n",
       "      <td>no</td>\n",
       "      <td>no</td>\n",
       "      <td>cellular</td>\n",
       "      <td>19</td>\n",
       "      <td>aug</td>\n",
       "      <td>151</td>\n",
       "      <td>11</td>\n",
       "      <td>-1</td>\n",
       "      <td>0</td>\n",
       "      <td>unknown</td>\n",
       "      <td>no</td>\n",
       "    </tr>\n",
       "    <tr>\n",
       "      <th>4519</th>\n",
       "      <td>28</td>\n",
       "      <td>blue-collar</td>\n",
       "      <td>married</td>\n",
       "      <td>secondary</td>\n",
       "      <td>no</td>\n",
       "      <td>1137</td>\n",
       "      <td>no</td>\n",
       "      <td>no</td>\n",
       "      <td>cellular</td>\n",
       "      <td>6</td>\n",
       "      <td>feb</td>\n",
       "      <td>129</td>\n",
       "      <td>4</td>\n",
       "      <td>211</td>\n",
       "      <td>3</td>\n",
       "      <td>other</td>\n",
       "      <td>no</td>\n",
       "    </tr>\n",
       "    <tr>\n",
       "      <th>4520</th>\n",
       "      <td>44</td>\n",
       "      <td>entrepreneur</td>\n",
       "      <td>single</td>\n",
       "      <td>tertiary</td>\n",
       "      <td>no</td>\n",
       "      <td>1136</td>\n",
       "      <td>yes</td>\n",
       "      <td>yes</td>\n",
       "      <td>cellular</td>\n",
       "      <td>3</td>\n",
       "      <td>apr</td>\n",
       "      <td>345</td>\n",
       "      <td>2</td>\n",
       "      <td>249</td>\n",
       "      <td>7</td>\n",
       "      <td>other</td>\n",
       "      <td>no</td>\n",
       "    </tr>\n",
       "  </tbody>\n",
       "</table>\n",
       "<p>4521 rows × 17 columns</p>\n",
       "</div>"
      ],
      "text/plain": [
       "      age            job  marital  education default  balance housing loan  \\\n",
       "0      30     unemployed  married    primary      no     1787      no   no   \n",
       "1      33       services  married  secondary      no     4789     yes  yes   \n",
       "2      35     management   single   tertiary      no     1350     yes   no   \n",
       "3      30     management  married   tertiary      no     1476     yes  yes   \n",
       "4      59    blue-collar  married  secondary      no        0     yes   no   \n",
       "...   ...            ...      ...        ...     ...      ...     ...  ...   \n",
       "4516   33       services  married  secondary      no     -333     yes   no   \n",
       "4517   57  self-employed  married   tertiary     yes    -3313     yes  yes   \n",
       "4518   57     technician  married  secondary      no      295      no   no   \n",
       "4519   28    blue-collar  married  secondary      no     1137      no   no   \n",
       "4520   44   entrepreneur   single   tertiary      no     1136     yes  yes   \n",
       "\n",
       "       contact  day month  duration  campaign  pdays  previous poutcome   y  \n",
       "0     cellular   19   oct        79         1     -1         0  unknown  no  \n",
       "1     cellular   11   may       220         1    339         4  failure  no  \n",
       "2     cellular   16   apr       185         1    330         1  failure  no  \n",
       "3      unknown    3   jun       199         4     -1         0  unknown  no  \n",
       "4      unknown    5   may       226         1     -1         0  unknown  no  \n",
       "...        ...  ...   ...       ...       ...    ...       ...      ...  ..  \n",
       "4516  cellular   30   jul       329         5     -1         0  unknown  no  \n",
       "4517   unknown    9   may       153         1     -1         0  unknown  no  \n",
       "4518  cellular   19   aug       151        11     -1         0  unknown  no  \n",
       "4519  cellular    6   feb       129         4    211         3    other  no  \n",
       "4520  cellular    3   apr       345         2    249         7    other  no  \n",
       "\n",
       "[4521 rows x 17 columns]"
      ]
     },
     "execution_count": 3,
     "metadata": {},
     "output_type": "execute_result"
    }
   ],
   "source": [
    "df = pd.read_csv('bank.csv', delimiter=';')\n",
    "df"
   ]
  },
  {
   "cell_type": "code",
   "execution_count": 4,
   "metadata": {},
   "outputs": [],
   "source": [
    "df.drop(df.index[df['education'] == 'unknown'], inplace = True)\n",
    "df.drop(df.index[df['job'] == 'unknown'], inplace = True)\n",
    "df.drop(df.index[df['contact'] == 'unknown'], inplace = True)\n",
    "df.drop(df.index[df['poutcome'] == 'unknown'], inplace = True)"
   ]
  },
  {
   "cell_type": "code",
   "execution_count": 5,
   "metadata": {},
   "outputs": [
    {
     "data": {
      "text/html": [
       "<div>\n",
       "<style scoped>\n",
       "    .dataframe tbody tr th:only-of-type {\n",
       "        vertical-align: middle;\n",
       "    }\n",
       "\n",
       "    .dataframe tbody tr th {\n",
       "        vertical-align: top;\n",
       "    }\n",
       "\n",
       "    .dataframe thead th {\n",
       "        text-align: right;\n",
       "    }\n",
       "</style>\n",
       "<table border=\"1\" class=\"dataframe\">\n",
       "  <thead>\n",
       "    <tr style=\"text-align: right;\">\n",
       "      <th></th>\n",
       "      <th>age</th>\n",
       "      <th>job</th>\n",
       "      <th>marital</th>\n",
       "      <th>education</th>\n",
       "      <th>default</th>\n",
       "      <th>balance</th>\n",
       "      <th>housing</th>\n",
       "      <th>loan</th>\n",
       "      <th>contact</th>\n",
       "      <th>day</th>\n",
       "      <th>month</th>\n",
       "      <th>duration</th>\n",
       "      <th>campaign</th>\n",
       "      <th>pdays</th>\n",
       "      <th>previous</th>\n",
       "      <th>poutcome</th>\n",
       "      <th>y</th>\n",
       "    </tr>\n",
       "  </thead>\n",
       "  <tbody>\n",
       "    <tr>\n",
       "      <th>1</th>\n",
       "      <td>33</td>\n",
       "      <td>services</td>\n",
       "      <td>married</td>\n",
       "      <td>secondary</td>\n",
       "      <td>no</td>\n",
       "      <td>4789</td>\n",
       "      <td>yes</td>\n",
       "      <td>yes</td>\n",
       "      <td>cellular</td>\n",
       "      <td>11</td>\n",
       "      <td>may</td>\n",
       "      <td>220</td>\n",
       "      <td>1</td>\n",
       "      <td>339</td>\n",
       "      <td>4</td>\n",
       "      <td>failure</td>\n",
       "      <td>no</td>\n",
       "    </tr>\n",
       "    <tr>\n",
       "      <th>2</th>\n",
       "      <td>35</td>\n",
       "      <td>management</td>\n",
       "      <td>single</td>\n",
       "      <td>tertiary</td>\n",
       "      <td>no</td>\n",
       "      <td>1350</td>\n",
       "      <td>yes</td>\n",
       "      <td>no</td>\n",
       "      <td>cellular</td>\n",
       "      <td>16</td>\n",
       "      <td>apr</td>\n",
       "      <td>185</td>\n",
       "      <td>1</td>\n",
       "      <td>330</td>\n",
       "      <td>1</td>\n",
       "      <td>failure</td>\n",
       "      <td>no</td>\n",
       "    </tr>\n",
       "    <tr>\n",
       "      <th>5</th>\n",
       "      <td>35</td>\n",
       "      <td>management</td>\n",
       "      <td>single</td>\n",
       "      <td>tertiary</td>\n",
       "      <td>no</td>\n",
       "      <td>747</td>\n",
       "      <td>no</td>\n",
       "      <td>no</td>\n",
       "      <td>cellular</td>\n",
       "      <td>23</td>\n",
       "      <td>feb</td>\n",
       "      <td>141</td>\n",
       "      <td>2</td>\n",
       "      <td>176</td>\n",
       "      <td>3</td>\n",
       "      <td>failure</td>\n",
       "      <td>no</td>\n",
       "    </tr>\n",
       "    <tr>\n",
       "      <th>6</th>\n",
       "      <td>36</td>\n",
       "      <td>self-employed</td>\n",
       "      <td>married</td>\n",
       "      <td>tertiary</td>\n",
       "      <td>no</td>\n",
       "      <td>307</td>\n",
       "      <td>yes</td>\n",
       "      <td>no</td>\n",
       "      <td>cellular</td>\n",
       "      <td>14</td>\n",
       "      <td>may</td>\n",
       "      <td>341</td>\n",
       "      <td>1</td>\n",
       "      <td>330</td>\n",
       "      <td>2</td>\n",
       "      <td>other</td>\n",
       "      <td>no</td>\n",
       "    </tr>\n",
       "    <tr>\n",
       "      <th>9</th>\n",
       "      <td>43</td>\n",
       "      <td>services</td>\n",
       "      <td>married</td>\n",
       "      <td>primary</td>\n",
       "      <td>no</td>\n",
       "      <td>-88</td>\n",
       "      <td>yes</td>\n",
       "      <td>yes</td>\n",
       "      <td>cellular</td>\n",
       "      <td>17</td>\n",
       "      <td>apr</td>\n",
       "      <td>313</td>\n",
       "      <td>1</td>\n",
       "      <td>147</td>\n",
       "      <td>2</td>\n",
       "      <td>failure</td>\n",
       "      <td>no</td>\n",
       "    </tr>\n",
       "    <tr>\n",
       "      <th>...</th>\n",
       "      <td>...</td>\n",
       "      <td>...</td>\n",
       "      <td>...</td>\n",
       "      <td>...</td>\n",
       "      <td>...</td>\n",
       "      <td>...</td>\n",
       "      <td>...</td>\n",
       "      <td>...</td>\n",
       "      <td>...</td>\n",
       "      <td>...</td>\n",
       "      <td>...</td>\n",
       "      <td>...</td>\n",
       "      <td>...</td>\n",
       "      <td>...</td>\n",
       "      <td>...</td>\n",
       "      <td>...</td>\n",
       "      <td>...</td>\n",
       "    </tr>\n",
       "    <tr>\n",
       "      <th>4492</th>\n",
       "      <td>32</td>\n",
       "      <td>technician</td>\n",
       "      <td>single</td>\n",
       "      <td>secondary</td>\n",
       "      <td>no</td>\n",
       "      <td>309</td>\n",
       "      <td>yes</td>\n",
       "      <td>yes</td>\n",
       "      <td>cellular</td>\n",
       "      <td>16</td>\n",
       "      <td>apr</td>\n",
       "      <td>346</td>\n",
       "      <td>1</td>\n",
       "      <td>234</td>\n",
       "      <td>3</td>\n",
       "      <td>failure</td>\n",
       "      <td>no</td>\n",
       "    </tr>\n",
       "    <tr>\n",
       "      <th>4504</th>\n",
       "      <td>42</td>\n",
       "      <td>blue-collar</td>\n",
       "      <td>single</td>\n",
       "      <td>secondary</td>\n",
       "      <td>no</td>\n",
       "      <td>1080</td>\n",
       "      <td>yes</td>\n",
       "      <td>yes</td>\n",
       "      <td>cellular</td>\n",
       "      <td>13</td>\n",
       "      <td>may</td>\n",
       "      <td>951</td>\n",
       "      <td>3</td>\n",
       "      <td>370</td>\n",
       "      <td>4</td>\n",
       "      <td>failure</td>\n",
       "      <td>yes</td>\n",
       "    </tr>\n",
       "    <tr>\n",
       "      <th>4514</th>\n",
       "      <td>38</td>\n",
       "      <td>blue-collar</td>\n",
       "      <td>married</td>\n",
       "      <td>secondary</td>\n",
       "      <td>no</td>\n",
       "      <td>1205</td>\n",
       "      <td>yes</td>\n",
       "      <td>no</td>\n",
       "      <td>cellular</td>\n",
       "      <td>20</td>\n",
       "      <td>apr</td>\n",
       "      <td>45</td>\n",
       "      <td>4</td>\n",
       "      <td>153</td>\n",
       "      <td>1</td>\n",
       "      <td>failure</td>\n",
       "      <td>no</td>\n",
       "    </tr>\n",
       "    <tr>\n",
       "      <th>4519</th>\n",
       "      <td>28</td>\n",
       "      <td>blue-collar</td>\n",
       "      <td>married</td>\n",
       "      <td>secondary</td>\n",
       "      <td>no</td>\n",
       "      <td>1137</td>\n",
       "      <td>no</td>\n",
       "      <td>no</td>\n",
       "      <td>cellular</td>\n",
       "      <td>6</td>\n",
       "      <td>feb</td>\n",
       "      <td>129</td>\n",
       "      <td>4</td>\n",
       "      <td>211</td>\n",
       "      <td>3</td>\n",
       "      <td>other</td>\n",
       "      <td>no</td>\n",
       "    </tr>\n",
       "    <tr>\n",
       "      <th>4520</th>\n",
       "      <td>44</td>\n",
       "      <td>entrepreneur</td>\n",
       "      <td>single</td>\n",
       "      <td>tertiary</td>\n",
       "      <td>no</td>\n",
       "      <td>1136</td>\n",
       "      <td>yes</td>\n",
       "      <td>yes</td>\n",
       "      <td>cellular</td>\n",
       "      <td>3</td>\n",
       "      <td>apr</td>\n",
       "      <td>345</td>\n",
       "      <td>2</td>\n",
       "      <td>249</td>\n",
       "      <td>7</td>\n",
       "      <td>other</td>\n",
       "      <td>no</td>\n",
       "    </tr>\n",
       "  </tbody>\n",
       "</table>\n",
       "<p>764 rows × 17 columns</p>\n",
       "</div>"
      ],
      "text/plain": [
       "      age            job  marital  education default  balance housing loan  \\\n",
       "1      33       services  married  secondary      no     4789     yes  yes   \n",
       "2      35     management   single   tertiary      no     1350     yes   no   \n",
       "5      35     management   single   tertiary      no      747      no   no   \n",
       "6      36  self-employed  married   tertiary      no      307     yes   no   \n",
       "9      43       services  married    primary      no      -88     yes  yes   \n",
       "...   ...            ...      ...        ...     ...      ...     ...  ...   \n",
       "4492   32     technician   single  secondary      no      309     yes  yes   \n",
       "4504   42    blue-collar   single  secondary      no     1080     yes  yes   \n",
       "4514   38    blue-collar  married  secondary      no     1205     yes   no   \n",
       "4519   28    blue-collar  married  secondary      no     1137      no   no   \n",
       "4520   44   entrepreneur   single   tertiary      no     1136     yes  yes   \n",
       "\n",
       "       contact  day month  duration  campaign  pdays  previous poutcome    y  \n",
       "1     cellular   11   may       220         1    339         4  failure   no  \n",
       "2     cellular   16   apr       185         1    330         1  failure   no  \n",
       "5     cellular   23   feb       141         2    176         3  failure   no  \n",
       "6     cellular   14   may       341         1    330         2    other   no  \n",
       "9     cellular   17   apr       313         1    147         2  failure   no  \n",
       "...        ...  ...   ...       ...       ...    ...       ...      ...  ...  \n",
       "4492  cellular   16   apr       346         1    234         3  failure   no  \n",
       "4504  cellular   13   may       951         3    370         4  failure  yes  \n",
       "4514  cellular   20   apr        45         4    153         1  failure   no  \n",
       "4519  cellular    6   feb       129         4    211         3    other   no  \n",
       "4520  cellular    3   apr       345         2    249         7    other   no  \n",
       "\n",
       "[764 rows x 17 columns]"
      ]
     },
     "execution_count": 5,
     "metadata": {},
     "output_type": "execute_result"
    }
   ],
   "source": [
    "df"
   ]
  },
  {
   "cell_type": "code",
   "execution_count": 6,
   "metadata": {
    "scrolled": true
   },
   "outputs": [
    {
     "name": "stdout",
     "output_type": "stream",
     "text": [
      "<class 'pandas.core.frame.DataFrame'>\n",
      "Int64Index: 764 entries, 1 to 4520\n",
      "Data columns (total 17 columns):\n",
      " #   Column     Non-Null Count  Dtype \n",
      "---  ------     --------------  ----- \n",
      " 0   age        764 non-null    int64 \n",
      " 1   job        764 non-null    object\n",
      " 2   marital    764 non-null    object\n",
      " 3   education  764 non-null    object\n",
      " 4   default    764 non-null    object\n",
      " 5   balance    764 non-null    int64 \n",
      " 6   housing    764 non-null    object\n",
      " 7   loan       764 non-null    object\n",
      " 8   contact    764 non-null    object\n",
      " 9   day        764 non-null    int64 \n",
      " 10  month      764 non-null    object\n",
      " 11  duration   764 non-null    int64 \n",
      " 12  campaign   764 non-null    int64 \n",
      " 13  pdays      764 non-null    int64 \n",
      " 14  previous   764 non-null    int64 \n",
      " 15  poutcome   764 non-null    object\n",
      " 16  y          764 non-null    object\n",
      "dtypes: int64(7), object(10)\n",
      "memory usage: 107.4+ KB\n"
     ]
    }
   ],
   "source": [
    "df.info()"
   ]
  },
  {
   "cell_type": "code",
   "execution_count": 7,
   "metadata": {},
   "outputs": [
    {
     "name": "stdout",
     "output_type": "stream",
     "text": [
      "['Solarize_Light2', '_classic_test_patch', 'bmh', 'classic', 'dark_background', 'fast', 'fivethirtyeight', 'ggplot', 'grayscale', 'seaborn', 'seaborn-bright', 'seaborn-colorblind', 'seaborn-dark', 'seaborn-dark-palette', 'seaborn-darkgrid', 'seaborn-deep', 'seaborn-muted', 'seaborn-notebook', 'seaborn-paper', 'seaborn-pastel', 'seaborn-poster', 'seaborn-talk', 'seaborn-ticks', 'seaborn-white', 'seaborn-whitegrid', 'tableau-colorblind10']\n"
     ]
    }
   ],
   "source": [
    "%matplotlib inline\n",
    "import matplotlib as mpl\n",
    "import matplotlib.pyplot as plt\n",
    "print(plt.style.available)\n",
    "mpl.style.use(['ggplot'])"
   ]
  },
  {
   "cell_type": "code",
   "execution_count": 8,
   "metadata": {
    "scrolled": false
   },
   "outputs": [
    {
     "data": {
      "text/plain": [
       "<AxesSubplot:ylabel='previous'>"
      ]
     },
     "execution_count": 8,
     "metadata": {},
     "output_type": "execute_result"
    },
    {
     "data": {
      "image/png": "[encoded data removed]",
      "text/plain": [
       "<Figure size 360x2160 with 1 Axes>"
      ]
     },
     "metadata": {},
     "output_type": "display_data"
    }
   ],
   "source": [
    "#Marketing campaign yang berhasil lebih banyak untuk customer profile yang sudah menikah\n",
    "\n",
    "df[df[\"y\"] == \"yes\"].groupby([\"marital\"])[\"previous\"].sum().plot(kind=\"pie\",  figsize=(5, 30),\n",
    "                            autopct='%1.1f%%', \n",
    "                            startangle=90,     \n",
    "                            shadow=True,      \n",
    "                            )"
   ]
  },
  {
   "cell_type": "code",
   "execution_count": 9,
   "metadata": {
    "scrolled": true
   },
   "outputs": [
    {
     "data": {
      "text/plain": [
       "(<AxesSubplot:xlabel='job'>,)"
      ]
     },
     "execution_count": 9,
     "metadata": {},
     "output_type": "execute_result"
    },
    {
     "data": {
      "image/png": "[encoded data removed]",
      "text/plain": [
       "<Figure size 720x1080 with 1 Axes>"
      ]
     },
     "metadata": {},
     "output_type": "display_data"
    }
   ],
   "source": [
    "df[df[\"y\"] == \"yes\"].groupby([\"job\"])[\"previous\"].sum().plot(kind=\"bar\",  figsize=(10, 15)),"
   ]
  },
  {
   "cell_type": "code",
   "execution_count": 10,
   "metadata": {
    "scrolled": true
   },
   "outputs": [],
   "source": [
    "from sklearn import preprocessing\n",
    "le = preprocessing.LabelEncoder()\n",
    "\n",
    "#Rubah dari string ke integer\n",
    "education_encoded = le.fit_transform(df.education.values)\n",
    "y_encoded = le.fit_transform(df.y.values)"
   ]
  },
  {
   "cell_type": "code",
   "execution_count": 11,
   "metadata": {},
   "outputs": [],
   "source": [
    "x = education_encoded\n",
    "y = y_encoded"
   ]
  },
  {
   "cell_type": "code",
   "execution_count": 12,
   "metadata": {},
   "outputs": [],
   "source": [
    "x = x.reshape(-1,1)\n",
    "model = LogisticRegression(solver='liblinear', random_state=0).fit(x, y)"
   ]
  },
  {
   "cell_type": "code",
   "execution_count": 13,
   "metadata": {},
   "outputs": [
    {
     "name": "stdout",
     "output_type": "stream",
     "text": [
      "[-1.59867746] [[0.29437168]]\n"
     ]
    }
   ],
   "source": [
    "print(model.intercept_, model.coef_)\n",
    "\n",
    "#y=ax+b\n",
    "#y=-2.24467586+0.16667854 (#ini persamaan garisnya)"
   ]
  },
  {
   "cell_type": "code",
   "execution_count": 14,
   "metadata": {},
   "outputs": [
    {
     "data": {
      "text/plain": [
       "0.7761780104712042"
      ]
     },
     "execution_count": 14,
     "metadata": {},
     "output_type": "execute_result"
    }
   ],
   "source": [
    "#LOGISTIC REGRESSION (prediksinya sekitar 88%)\n",
    "\n",
    "model.score(x, y)"
   ]
  },
  {
   "cell_type": "code",
   "execution_count": 15,
   "metadata": {},
   "outputs": [
    {
     "data": {
      "image/png": "[encoded data removed]",
      "text/plain": [
       "<Figure size 576x576 with 1 Axes>"
      ]
     },
     "metadata": {},
     "output_type": "display_data"
    }
   ],
   "source": [
    "#Ini saya kurang yakin pak untuk modelnya sepertinya ada yang kurang sesuai jadi visualisasinya seperti ini\n",
    "\n",
    "cm = confusion_matrix(y, model.predict(x))\n",
    "\n",
    "fig, ax = plt.subplots(figsize=(8, 8))\n",
    "ax.imshow(cm)\n",
    "ax.grid(False)\n",
    "ax.xaxis.set(ticks=(0, 1), ticklabels=('Predicted 0s', 'Predicted 1s'))\n",
    "ax.yaxis.set(ticks=(0, 1), ticklabels=('Actual 0s', 'Actual 1s'))\n",
    "ax.set_ylim(1.5, -0.5)\n",
    "for i in range(2):\n",
    "    for j in range(2):\n",
    "        ax.text(j, i, cm[i, j], ha='center', va='center', color='red')\n",
    "plt.show()"
   ]
  },
  {
   "cell_type": "code",
   "execution_count": 16,
   "metadata": {},
   "outputs": [],
   "source": [
    "from sklearn import preprocessing\n",
    "le = preprocessing.LabelEncoder()\n",
    "\n",
    "# First Feature\n",
    "marital_encoded = le.fit_transform(df.marital.values)\n",
    "\n",
    "# Second Feature\n",
    "job_encoded = le.fit_transform(df.job.values)\n",
    "\n",
    "#Target\n",
    "label=le.fit_transform(y)"
   ]
  },
  {
   "cell_type": "code",
   "execution_count": 17,
   "metadata": {
    "scrolled": false
   },
   "outputs": [
    {
     "name": "stdout",
     "output_type": "stream",
     "text": [
      "[(1, 7), (2, 4), (2, 4), (1, 6), (1, 7), (1, 1), (2, 0), (1, 7), (1, 4), (1, 1), (1, 9), (0, 1), (1, 4), (0, 1), (1, 10), (1, 7), (2, 0), (0, 1), (2, 4), (2, 4), (2, 8), (2, 1), (2, 4), (2, 1), (2, 0), (1, 0), (1, 0), (1, 9), (2, 4), (2, 0), (1, 0), (1, 0), (1, 0), (2, 7), (1, 9), (1, 5), (2, 9), (2, 9), (0, 4), (1, 9), (2, 7), (1, 9), (1, 1), (1, 9), (1, 9), (2, 9), (2, 1), (1, 1), (1, 4), (1, 9), (1, 5), (1, 9), (1, 7), (1, 3), (1, 0), (0, 5), (1, 1), (2, 0), (1, 2), (1, 4), (1, 9), (1, 10), (2, 9), (2, 4), (1, 5), (1, 4), (2, 1), (1, 4), (1, 6), (1, 4), (1, 4), (2, 4), (1, 2), (1, 0), (2, 7), (1, 4), (1, 1), (1, 7), (2, 4), (1, 1), (2, 9), (1, 4), (1, 0), (0, 5), (1, 4), (2, 4), (1, 1), (2, 0), (0, 4), (1, 1), (1, 3), (1, 5), (1, 9), (1, 0), (1, 3), (2, 4), (1, 1), (1, 9), (0, 10), (1, 4), (1, 5), (0, 0), (1, 7), (2, 0), (1, 9), (1, 5), (1, 0), (1, 9), (1, 9), (1, 4), (1, 1), (2, 9), (1, 3), (1, 1), (1, 9), (1, 9), (2, 4), (1, 4), (1, 9), (0, 4), (1, 4), (2, 3), (2, 2), (1, 5), (1, 9), (0, 9), (1, 2), (1, 9), (1, 4), (1, 9), (1, 9), (2, 7), (1, 7), (1, 2), (2, 8), (1, 1), (2, 9), (1, 4), (1, 1), (2, 9), (1, 7), (1, 7), (0, 4), (1, 4), (2, 9), (1, 4), (2, 1), (1, 4), (1, 4), (1, 9), (2, 9), (1, 9), (1, 7), (2, 4), (1, 6), (1, 4), (1, 10), (2, 7), (2, 4), (0, 3), (0, 4), (1, 1), (2, 9), (1, 9), (2, 4), (2, 0), (2, 9), (1, 2), (2, 4), (2, 8), (2, 4), (2, 9), (1, 0), (1, 1), (1, 4), (1, 0), (1, 4), (1, 4), (2, 10), (1, 9), (1, 1), (1, 6), (2, 9), (1, 6), (2, 4), (2, 8), (1, 9), (1, 4), (0, 1), (2, 0), (1, 7), (1, 2), (1, 4), (1, 1), (2, 4), (1, 0), (1, 3), (1, 9), (0, 4), (1, 4), (2, 1), (2, 4), (1, 9), (1, 9), (1, 9), (2, 9), (1, 9), (2, 4), (2, 7), (1, 0), (2, 4), (1, 10), (2, 9), (2, 9), (1, 4), (1, 7), (1, 9), (2, 1), (1, 4), (1, 6), (2, 5), (0, 0), (2, 4), (2, 4), (1, 1), (0, 0), (1, 7), (1, 1), (1, 1), (1, 1), (0, 4), (1, 4), (1, 4), (1, 7), (1, 5), (1, 4), (1, 1), (1, 2), (0, 1), (2, 4), (1, 0), (0, 4), (1, 0), (1, 5), (2, 0), (1, 6), (1, 0), (1, 1), (1, 0), (1, 7), (2, 4), (2, 7), (2, 9), (1, 1), (2, 1), (1, 0), (2, 8), (1, 4), (1, 2), (1, 5), (1, 5), (0, 9), (1, 4), (1, 4), (1, 9), (2, 9), (2, 9), (1, 1), (2, 9), (1, 9), (1, 9), (1, 4), (1, 1), (1, 1), (1, 7), (0, 1), (1, 6), (1, 2), (1, 1), (2, 1), (1, 4), (1, 1), (1, 5), (1, 4), (1, 6), (1, 7), (1, 9), (1, 1), (0, 10), (1, 1), (1, 5), (0, 0), (1, 1), (1, 1), (1, 4), (1, 0), (1, 0), (1, 1), (2, 4), (0, 10), (1, 1), (1, 4), (2, 0), (2, 0), (1, 0), (2, 9), (2, 3), (2, 4), (1, 9), (2, 6), (2, 0), (2, 4), (2, 9), (2, 7), (1, 5), (1, 1), (1, 1), (1, 0), (1, 4), (2, 7), (1, 1), (1, 1), (0, 4), (1, 1), (2, 0), (1, 5), (1, 4), (0, 7), (2, 1), (2, 9), (1, 9), (0, 9), (2, 8), (1, 4), (1, 5), (1, 1), (2, 4), (2, 8), (1, 1), (2, 2), (0, 0), (2, 0), (1, 5), (1, 9), (2, 9), (1, 1), (1, 1), (2, 0), (2, 1), (1, 10), (2, 1), (2, 4), (1, 1), (1, 4), (1, 4), (1, 9), (1, 1), (1, 9), (0, 3), (1, 9), (2, 4), (1, 5), (1, 5), (2, 4), (1, 4), (0, 6), (2, 8), (1, 10), (0, 9), (1, 3), (1, 4), (0, 1), (1, 7), (1, 9), (2, 1), (2, 1), (1, 7), (2, 0), (0, 4), (1, 4), (2, 8), (1, 1), (2, 4), (2, 0), (0, 10), (1, 4), (2, 4), (1, 5), (1, 0), (2, 4), (1, 9), (1, 2), (1, 9), (2, 9), (1, 9), (1, 0), (2, 0), (1, 4), (2, 0), (2, 7), (2, 7), (0, 0), (2, 7), (0, 1), (2, 9), (1, 4), (1, 9), (2, 8), (1, 9), (1, 10), (1, 5), (1, 9), (1, 4), (1, 4), (1, 1), (1, 1), (1, 4), (2, 1), (2, 8), (1, 4), (0, 0), (1, 1), (0, 2), (0, 9), (1, 4), (1, 10), (0, 0), (1, 1), (1, 0), (1, 9), (1, 9), (2, 1), (1, 0), (1, 1), (2, 9), (2, 0), (2, 1), (1, 4), (1, 0), (2, 8), (1, 0), (1, 6), (2, 4), (1, 5), (1, 1), (1, 4), (0, 4), (1, 1), (0, 9), (1, 4), (0, 9), (2, 9), (1, 0), (1, 4), (1, 9), (1, 1), (1, 1), (1, 4), (2, 9), (1, 0), (2, 0), (0, 2), (2, 0), (1, 4), (1, 4), (1, 1), (1, 1), (1, 9), (1, 6), (2, 9), (2, 1), (2, 4), (1, 3), (1, 4), (2, 4), (1, 4), (1, 1), (0, 5), (2, 9), (2, 0), (1, 0), (1, 1), (1, 1), (1, 9), (1, 4), (1, 1), (2, 4), (1, 1), (1, 9), (1, 1), (1, 2), (2, 2), (1, 1), (1, 3), (1, 0), (1, 0), (1, 1), (1, 1), (1, 1), (2, 1), (2, 4), (1, 4), (0, 9), (1, 10), (1, 0), (2, 0), (1, 1), (2, 7), (1, 9), (1, 0), (2, 4), (1, 1), (2, 9), (2, 9), (1, 4), (1, 5), (1, 5), (1, 6), (1, 9), (1, 6), (2, 0), (0, 9), (2, 0), (1, 1), (1, 0), (1, 2), (0, 4), (2, 0), (1, 1), (1, 5), (1, 5), (1, 0), (1, 4), (2, 1), (1, 1), (1, 1), (2, 4), (1, 9), (1, 4), (1, 0), (1, 4), (1, 1), (1, 1), (2, 7), (1, 2), (2, 9), (2, 0), (0, 9), (2, 6), (2, 9), (2, 4), (1, 7), (0, 7), (1, 5), (1, 6), (1, 0), (2, 4), (1, 4), (1, 1), (1, 7), (1, 0), (1, 0), (1, 2), (0, 7), (2, 8), (1, 10), (1, 1), (2, 1), (1, 7), (0, 4), (2, 4), (1, 0), (1, 0), (1, 6), (1, 1), (1, 4), (2, 4), (1, 0), (1, 7), (1, 1), (1, 0), (1, 1), (1, 10), (1, 4), (1, 4), (2, 4), (0, 7), (0, 4), (1, 6), (1, 9), (2, 4), (1, 9), (0, 7), (0, 4), (1, 4), (2, 0), (1, 9), (1, 0), (1, 4), (1, 3), (1, 4), (1, 1), (1, 1), (2, 9), (2, 1), (1, 5), (0, 4), (1, 6), (1, 9), (1, 9), (2, 8), (2, 0), (2, 4), (2, 7), (2, 7), (2, 0), (2, 4), (0, 4), (2, 0), (1, 9), (1, 3), (1, 4), (0, 0), (1, 4), (1, 1), (1, 4), (1, 6), (0, 4), (0, 3), (1, 5), (2, 0), (1, 4), (1, 9), (2, 1), (1, 7), (0, 9), (2, 4), (0, 4), (2, 9), (1, 1), (1, 4), (1, 0), (0, 7), (2, 4), (1, 6), (2, 3), (1, 0), (2, 4), (1, 1), (2, 0), (0, 4), (2, 8), (1, 0), (1, 6), (2, 4), (0, 7), (1, 1), (1, 1), (1, 5), (0, 5), (1, 0), (1, 4), (2, 7), (2, 9), (1, 1), (1, 6), (1, 4), (1, 5), (2, 1), (1, 1), (1, 4), (0, 0), (1, 1), (0, 3), (1, 9), (0, 1), (1, 9), (2, 9), (1, 1), (1, 7), (0, 0), (2, 9), (2, 4), (1, 5), (1, 7), (2, 7), (1, 0), (1, 1), (1, 1), (1, 4), (1, 1), (2, 5), (1, 2), (1, 4), (2, 9), (1, 1), (2, 7), (2, 4), (1, 4), (1, 9), (2, 8), (1, 10), (1, 5), (0, 7), (2, 8), (1, 9), (2, 4), (1, 1), (1, 10), (0, 1), (1, 8), (1, 9), (2, 9), (1, 10), (1, 0), (0, 6), (2, 9), (2, 4), (1, 5), (1, 9), (1, 9), (1, 0), (1, 4), (1, 6), (1, 7), (2, 7), (2, 7), (2, 9), (0, 5), (0, 5), (0, 4), (2, 8), (1, 1), (1, 1), (1, 0), (1, 9), (2, 1), (0, 7), (2, 9), (1, 1), (2, 5), (1, 1), (1, 5), (1, 9), (2, 4), (1, 4), (2, 9), (2, 9), (2, 1), (1, 1), (1, 4), (2, 4), (2, 0), (2, 9), (2, 4), (1, 9), (1, 1), (2, 10), (1, 4), (2, 9), (2, 1), (1, 1), (1, 1), (2, 2)]\n"
     ]
    }
   ],
   "source": [
    "#combining marital and job into single list of tuples\n",
    "features=list(zip(marital_encoded,job_encoded))\n",
    "print(features)"
   ]
  },
  {
   "cell_type": "code",
   "execution_count": 18,
   "metadata": {},
   "outputs": [
    {
     "name": "stdout",
     "output_type": "stream",
     "text": [
      "[0]\n"
     ]
    }
   ],
   "source": [
    "from sklearn.neighbors import KNeighborsClassifier\n",
    "\n",
    "model = KNeighborsClassifier(n_neighbors=5)\n",
    "\n",
    "# Train the model using the training sets\n",
    "model.fit(features,label)\n",
    "\n",
    "#Predict Output\n",
    "predicted = model.predict([[0,2]]) \n",
    "\n",
    "print(predicted)"
   ]
  },
  {
   "cell_type": "code",
   "execution_count": 19,
   "metadata": {
    "scrolled": true
   },
   "outputs": [
    {
     "name": "stdout",
     "output_type": "stream",
     "text": [
      "Accuracy: 0.7304347826086957\n"
     ]
    }
   ],
   "source": [
    "#K-Nearest Neighboor\n",
    "\n",
    "# Import train_test_split function\n",
    "from sklearn.model_selection import train_test_split\n",
    "\n",
    "# Split dataset into training set and test set\n",
    "X_train, X_test, y_train, y_test = train_test_split(features, label, test_size=0.3) # 70% training and 30% test\n",
    "\n",
    "#Import knearest neighbors Classifier model\n",
    "from sklearn.neighbors import KNeighborsClassifier\n",
    "\n",
    "#Create KNN Classifier\n",
    "knn = KNeighborsClassifier(n_neighbors=5)\n",
    "\n",
    "#Train the model using the training sets\n",
    "knn.fit(X_train, y_train)\n",
    "\n",
    "#Predict the response for test dataset\n",
    "y_pred = knn.predict(X_test)\n",
    "\n",
    "#Import scikit-learn metrics module for accuracy calculation\n",
    "from sklearn import metrics\n",
    "\n",
    "# Model Accuracy, how often is the classifier correct?\n",
    "print(\"Accuracy:\",metrics.accuracy_score(y_test, y_pred))"
   ]
  },
  {
   "cell_type": "code",
   "execution_count": 20,
   "metadata": {},
   "outputs": [
    {
     "name": "stdout",
     "output_type": "stream",
     "text": [
      "Accuracy: 0.7782608695652173\n"
     ]
    }
   ],
   "source": [
    "#NAIVE BAYES \n",
    "\n",
    "# Import train_test_split function\n",
    "from sklearn.model_selection import train_test_split\n",
    "\n",
    "# Split dataset into training set and test set\n",
    "X_train, X_test, y_train, y_test = train_test_split(features, label, test_size=0.3) # 70% training and 30% test\n",
    "\n",
    "#Import Gaussian Naive Bayes model\n",
    "from sklearn.naive_bayes import GaussianNB\n",
    "\n",
    "#Create a Gaussian Classifier\n",
    "gnb = GaussianNB()\n",
    "\n",
    "#Train the model using the training sets\n",
    "gnb.fit(X_train, y_train)\n",
    "\n",
    "#Predict the response for test dataset\n",
    "y_pred = gnb.predict(X_test)\n",
    "\n",
    "#Import scikit-learn metrics module for accuracy calculation\n",
    "from sklearn import metrics\n",
    "\n",
    "# Model Accuracy, how often is the classifier correct?\n",
    "print(\"Accuracy:\",metrics.accuracy_score(y_test, y_pred))"
   ]
  },
  {
   "cell_type": "code",
   "execution_count": 21,
   "metadata": {},
   "outputs": [
    {
     "name": "stdout",
     "output_type": "stream",
     "text": [
      "Accuracy: 0.7391304347826086\n"
     ]
    }
   ],
   "source": [
    "#DECISION TREES\n",
    "\n",
    "# Import train_test_split function\n",
    "from sklearn.model_selection import train_test_split\n",
    "\n",
    "# Split dataset into training set and test set\n",
    "X_train, X_test, y_train, y_test = train_test_split(features, label, test_size=0.3) # 70% training and 30% test\n",
    "\n",
    "# Create Decision Tree classifer object\n",
    "clf = DecisionTreeClassifier()\n",
    "\n",
    "# Train Decision Tree Classifer\n",
    "clf = clf.fit(X_train,y_train)\n",
    "\n",
    "#Predict the response for test dataset\n",
    "y_pred = clf.predict(X_test)\n",
    "\n",
    "# Model Accuracy, how often is the classifier correct?\n",
    "print(\"Accuracy:\",metrics.accuracy_score(y_test, y_pred))"
   ]
  },
  {
   "cell_type": "code",
   "execution_count": 22,
   "metadata": {},
   "outputs": [
    {
     "name": "stdout",
     "output_type": "stream",
     "text": [
      "Accuracy: 0.7869565217391304\n"
     ]
    }
   ],
   "source": [
    "#RANDOM FOREST\n",
    "\n",
    "# Import train_test_split function\n",
    "from sklearn.model_selection import train_test_split \n",
    "\n",
    "# Split dataset into training set and test set\n",
    "X_train, X_test, y_train, y_test = train_test_split(features, label, test_size=0.3) # 70% training and 30% test\n",
    "\n",
    "#Import Random Forest Model\n",
    "from sklearn.ensemble import RandomForestClassifier\n",
    " \n",
    "#Create a Gaussian Classifier\n",
    "clf=RandomForestClassifier(n_estimators=100)\n",
    " \n",
    "#Train the model using the training sets y_pred=clf.predict(X_test)\n",
    "clf.fit(X_train,y_train) \n",
    "\n",
    "y_pred=clf.predict(X_test)\n",
    "\n",
    "#Import scikit-learn metrics module for accuracy calculation\n",
    "from sklearn import metrics\n",
    "\n",
    "# Model Accuracy, how often is the classifier correct?\n",
    "print(\"Accuracy:\",metrics.accuracy_score(y_test, y_pred))\n"
   ]
  },
  {
   "cell_type": "code",
   "execution_count": 23,
   "metadata": {},
   "outputs": [
    {
     "name": "stdout",
     "output_type": "stream",
     "text": [
      "Accuracy: 0.8043478260869565\n"
     ]
    }
   ],
   "source": [
    "#SVM\n",
    "\n",
    "from sklearn import svm \n",
    "\n",
    "#Create a svm Classifier\n",
    "clf = svm.SVC(kernel='linear') # Linear Kernel\n",
    "\n",
    "#Train the model using the training sets\n",
    "clf.fit(X_train, y_train) \n",
    "\n",
    "#Predict the response for test dataset\n",
    "y_pred = clf.predict(X_test)\n",
    "\n",
    "#Import scikit-learn metrics module for accuracy calculation\n",
    "from sklearn import metrics \n",
    "\n",
    "# Model Accuracy: how often is the classifier correct?\n",
    "print(\"Accuracy:\", metrics.accuracy_score(y_test, y_pred))"
   ]
  }
 ],
 "metadata": {
  "kernelspec": {
   "display_name": "Python 3",
   "language": "python",
   "name": "python3"
  },
  "language_info": {
   "codemirror_mode": {
    "name": "ipython",
    "version": 3
   },
   "file_extension": ".py",
   "mimetype": "text/x-python",
   "name": "python",
   "nbconvert_exporter": "python",
   "pygments_lexer": "ipython3",
   "version": "3.8.5"
  }
 },
 "nbformat": 4,
 "nbformat_minor": 4
}
